{
 "cells": [
  {
   "cell_type": "code",
   "execution_count": 4,
   "metadata": {},
   "outputs": [],
   "source": [
    "import cv2\n",
    "import numpy as np\n",
    "from matplotlib import pyplot as plt \n",
    "from pydub import AudioSegment\n",
    "from pydub.playback import play"
   ]
  },
  {
   "cell_type": "code",
   "execution_count": null,
   "metadata": {},
   "outputs": [
    {
     "ename": "",
     "evalue": "",
     "output_type": "error",
     "traceback": [
      "\u001b[1;31mRunning cells with 'c:\\Users\\TECHNICIAN\\AppData\\Local\\Programs\\Python\\Python312\\python.exe' requires the ipykernel package.\n",
      "\u001b[1;31mRun the following command to install 'ipykernel' into the Python environment. \n",
      "\u001b[1;31mCommand: 'c:/Users/TECHNICIAN/AppData/Local/Programs/Python/Python312/python.exe -m pip install ipykernel -U --user --force-reinstall'"
     ]
    }
   ],
   "source": [
    "class ImageProcessing():\n",
    "    def __init__(self, image_path):\n",
    "        self.image_path = image_path\n",
    "        self.image = cv2.imread(image_path)\n",
    "        self.image = cv2.cvtColor(self.image, cv2.COLOR_BGR2RGB)\n",
    "    \n",
    "    def show_image(self):\n",
    "        plt.imshow(self.image, cmap='gray')\n",
    "        plt.axis('off')\n",
    "        plt.show()\n",
    "    \n",
    "    def save_image(self, save_path):\n",
    "        cv2.imwrite(save_path, self.image)\n",
    "    \n",
    "    def gray(self):\n",
    "        self.image = cv2.cvtColor(self.image, cv2.COLOR_RGB2GRAY)\n",
    "        return self.image\n",
    "    \n",
    "    def blur(self, degree):\n",
    "        if degree % 2 == 0:\n",
    "            degree += 1\n",
    "        self.image = cv2.medianBlur(self.image, degree)\n",
    "        return self.image\n",
    "    \n",
    "    def edges(self):\n",
    "        self.image = cv2.Canny(self.image, 100, 200)\n",
    "        return self.image\n",
    "    \n",
    "    def remove_noise(self):\n",
    "        self.image = cv2.fastNlMeansDenoising(self.image, None, 10, 7, 21)\n",
    "        return self.image\n",
    "    \n",
    "    def saturation(self, value):\n",
    "        hsv = cv2.cvtColor(self.image, cv2.COLOR_RGB2HSV)\n",
    "        hsv[:,:,1] = hsv[:,:,1] * value\n",
    "        self.image = cv2.cvtColor(hsv, cv2.COLOR_HSV2RGB)\n",
    "        return self.image\n",
    "    \n",
    "    def brightness(self, value):\n",
    "        hsv = cv2.cvtColor(self.image, cv2.COLOR_RGB2HSV)\n",
    "        hsv[:,:,2] = hsv[:,:,2] * value\n",
    "        self.image = cv2.cvtColor(hsv, cv2.COLOR_HSV2RGB)\n",
    "        return self.image\n",
    "    \n",
    "    def contrast(self, value):\n",
    "        self.image = cv2.convertScaleAbs(self.image, alpha=value, beta=0)\n",
    "        return self.image\n"
   ]
  },
  {
   "cell_type": "code",
   "execution_count": null,
   "metadata": {},
   "outputs": [
    {
     "ename": "",
     "evalue": "",
     "output_type": "error",
     "traceback": [
      "\u001b[1;31mRunning cells with 'c:\\Users\\TECHNICIAN\\AppData\\Local\\Programs\\Python\\Python312\\python.exe' requires the ipykernel package.\n",
      "\u001b[1;31mRun the following command to install 'ipykernel' into the Python environment. \n",
      "\u001b[1;31mCommand: 'c:/Users/TECHNICIAN/AppData/Local/Programs/Python/Python312/python.exe -m pip install ipykernel -U --user --force-reinstall'"
     ]
    }
   ],
   "source": [
    "class ImageManipulation(ImageProcessing):\n",
    "    def __init__(self, image_path):\n",
    "        super().__init__(image_path)\n",
    "    \n",
    "    def rotate(self, angle):\n",
    "        rows, cols = self.image.shape[:2]\n",
    "        M = cv2.getRotationMatrix2D((cols / 2, rows / 2), angle, 1)\n",
    "        self.image = cv2.warpAffine(self.image, M, (cols, rows))\n",
    "        return self.image\n",
    "    \n",
    "    def resize(self, width=None, height=None, interpolation=cv2.INTER_AREA):\n",
    "        dim = None\n",
    "        (h, w) = self.image.shape[:2]\n",
    "        \n",
    "        if width is None and height is None:\n",
    "            return self.image\n",
    "        if width is None:\n",
    "            r = height / float(h)\n",
    "            dim = (int(w * r), height)\n",
    "        else:\n",
    "            r = width / float(w)\n",
    "            dim = (width, int(h * r))\n",
    "            \n",
    "        self.image = cv2.resize(self.image, dim, interpolation=interpolation)\n",
    "        return self.image\n",
    "    \n",
    "    def flip(self, direction):\n",
    "        if direction == 'horizontal':\n",
    "            self.image = cv2.flip(self.image, 1)\n",
    "        elif direction == 'vertical':\n",
    "            self.image = cv2.flip(self.image, 0)\n",
    "        return self.image"
   ]
  },
  {
   "cell_type": "code",
   "execution_count": 7,
   "metadata": {},
   "outputs": [
    {
     "ename": "ModuleNotFoundError",
     "evalue": "No module named 'pydub'",
     "output_type": "error",
     "traceback": [
      "\u001b[1;31m---------------------------------------------------------------------------\u001b[0m",
      "\u001b[1;31mModuleNotFoundError\u001b[0m                       Traceback (most recent call last)",
      "Cell \u001b[1;32mIn[7], line 1\u001b[0m\n\u001b[1;32m----> 1\u001b[0m \u001b[38;5;28;01mfrom\u001b[39;00m \u001b[38;5;21;01mpydub\u001b[39;00m \u001b[38;5;28;01mimport\u001b[39;00m AudioSegment\n\u001b[0;32m      2\u001b[0m \u001b[38;5;28;01mfrom\u001b[39;00m \u001b[38;5;21;01mpydub\u001b[39;00m\u001b[38;5;21;01m.\u001b[39;00m\u001b[38;5;21;01mplayback\u001b[39;00m \u001b[38;5;28;01mimport\u001b[39;00m play\n\u001b[0;32m      4\u001b[0m \u001b[38;5;28;01mclass\u001b[39;00m \u001b[38;5;21;01mSoundProcessor\u001b[39;00m:\n",
      "\u001b[1;31mModuleNotFoundError\u001b[0m: No module named 'pydub'"
     ]
    }
   ],
   "source": [
    "\n",
    "class SoundProcessor:\n",
    "    def __init__(self, audio_data):\n",
    "        self.audio = audio_data\n",
    "\n",
    "    def reduce_noise(self, noise_threshold):\n",
    "        self.audio = self.audio.low_pass_filter(noise_threshold)\n",
    "\n",
    "    def change_speed(self, speed_factor):\n",
    "        self.audio = self.audio.speedup(playback_speed=speed_factor)\n",
    "\n",
    "    def change_pitch(self, pitch_factor):\n",
    "        self.audio = self.audio._spawn(self.audio.raw_data, overrides={\n",
    "            \"frame_rate\": int(self.audio.frame_rate * pitch_factor)\n",
    "        })\n",
    "\n",
    "    def reverse_audio(self):\n",
    "        self.audio = self.audio.reverse()\n",
    "\n",
    "    def fade_in(self, duration):\n",
    "        self.audio = self.audio.fade_in(duration)\n",
    "\n",
    "    def fade_out(self, duration):\n",
    "        self.audio = self.audio.fade_out(duration)\n",
    "\n",
    "    def export_audio(self, output_path, format=\"wav\", sample_width=2, channels=2, sample_rate=44100):\n",
    "        self.audio = self.audio.set_sample_width(sample_width)\n",
    "        self.audio = self.audio.set_channels(channels)\n",
    "        self.audio = self.audio.set_frame_rate(sample_rate)\n",
    "        self.audio.export(output_path, format=format)\n",
    "\n",
    "    def play_audio(self):\n",
    "        play(self.audio)\n",
    "\n",
    "\n"
   ]
  },
  {
   "cell_type": "code",
   "execution_count": 5,
   "metadata": {},
   "outputs": [
    {
     "data": {
      "text/plain": [
       "1"
      ]
     },
     "execution_count": 5,
     "metadata": {},
     "output_type": "execute_result"
    }
   ],
   "source": [
    "import os\n",
    "os.system('say \"This is a test\"')\n"
   ]
  },
  {
   "cell_type": "code",
   "execution_count": null,
   "metadata": {},
   "outputs": [
    {
     "ename": "",
     "evalue": "",
     "output_type": "error",
     "traceback": [
      "\u001b[1;31mRunning cells with 'c:\\Users\\TECHNICIAN\\AppData\\Local\\Programs\\Python\\Python312\\python.exe' requires the ipykernel package.\n",
      "\u001b[1;31mRun the following command to install 'ipykernel' into the Python environment. \n",
      "\u001b[1;31mCommand: 'c:/Users/TECHNICIAN/AppData/Local/Programs/Python/Python312/python.exe -m pip install ipykernel -U --user --force-reinstall'"
     ]
    }
   ],
   "source": [
    "new_image = ImageProcessing('pizza.jpg')\n",
    "new_image.contrast(1)\n",
    "new_image.show_image()\n",
    "\n",
    "\n",
    "\n",
    "from pydub.generators import Sine\n",
    "\n",
    "tone = Sine(440).to_audio_segment(duration=1000)\n",
    "\n",
    "sound_processor = SoundProcessor(tone)\n",
    "sound_processor.reduce_noise(2000)  \n",
    "sound_processor.change_speed(1.5)   \n",
    "sound_processor.change_pitch(1.2)    \n",
    "sound_processor.reverse_audio()      \n",
    "sound_processor.fade_in(2000)       \n",
    "sound_processor.fade_out(2000)       \n",
    "sound_processor.play_audio()"
   ]
  }
 ],
 "metadata": {
  "kernelspec": {
   "display_name": "Python 3",
   "language": "python",
   "name": "python3"
  },
  "language_info": {
   "codemirror_mode": {
    "name": "ipython",
    "version": 3
   },
   "file_extension": ".py",
   "mimetype": "text/x-python",
   "name": "python",
   "nbconvert_exporter": "python",
   "pygments_lexer": "ipython3",
   "version": "3.12.3"
  }
 },
 "nbformat": 4,
 "nbformat_minor": 2
}
